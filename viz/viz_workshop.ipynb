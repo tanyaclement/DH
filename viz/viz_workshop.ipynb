{
  "nbformat": 4,
  "nbformat_minor": 0,
  "metadata": {
    "colab": {
      "provenance": [],
      "include_colab_link": true
    },
    "kernelspec": {
      "name": "python3",
      "display_name": "Python 3"
    },
    "language_info": {
      "name": "python"
    }
  },
  "cells": [
    {
      "cell_type": "markdown",
      "metadata": {
        "id": "view-in-github",
        "colab_type": "text"
      },
      "source": [
        "<a href=\"https://colab.research.google.com/github/tanyaclement/IntroDH/blob/master/viz/viz_workshop.ipynb\" target=\"_parent\"><img src=\"https://colab.research.google.com/assets/colab-badge.svg\" alt=\"Open In Colab\"/></a>"
      ]
    },
    {
      "cell_type": "markdown",
      "source": [
        "# Visualizing Scottish Witchcraft Data with Python\n",
        "\n",
        "\n"
      ],
      "metadata": {
        "id": "Dm6vconRZyyA"
      }
    },
    {
      "cell_type": "markdown",
      "source": [
        "The data used in this workshop is from [The Survey of Scottish Witchcraft 1563-1736](http://witches.hca.ed.ac.uk/). It contains a variety of information on the almost 4,000 people who were accused of practicing witchcraft between 1563 and 1736 in Scotland. This includes, but is not limited to: Accused peoples, accused families, cases, case persons, complaints, confessions, demonic pacts, denunciations, devil appearances, elf and fairy elements, imprisonments, and denunciations. For this workshop project, we will be focusing our study on the smaller, more specific “Demonic Pact” dataset (titled “WDB_DemonicPact.csv” on [data.world](https://data.world/)) that is included in the overall dataset. It concerns cases which involve alleged demonic pacts.\n"
      ],
      "metadata": {
        "id": "7OSFLOYBjRut"
      }
    },
    {
      "cell_type": "markdown",
      "source": [
        "# Before you begin"
      ],
      "metadata": {
        "id": "5sMrN7rOG-rm"
      }
    },
    {
      "cell_type": "markdown",
      "source": [
        " You need data! Download this file: https://github.com/tanyaclement/IntroDH/blob/master/viz/WDB_DemonicPact4.csv and upload it on the left side menu of this notebook in the sample_data directory."
      ],
      "metadata": {
        "id": "xXMn-3_-GbPt"
      }
    },
    {
      "cell_type": "markdown",
      "source": [
        "# Importing Pandas and Configuring Dataframe"
      ],
      "metadata": {
        "id": "FxT4Vk084TYB"
      }
    },
    {
      "cell_type": "markdown",
      "source": [
        "First, we will need to use Pandas to analyze and manipulate the data. Pandas is useful for data modeling. We need to import this library into Google Colaboratory."
      ],
      "metadata": {
        "id": "8fixnOtv2DLG"
      }
    },
    {
      "cell_type": "code",
      "source": [
        "import pandas as pd"
      ],
      "metadata": {
        "id": "ikxeu1Dy2SJZ"
      },
      "execution_count": null,
      "outputs": []
    },
    {
      "cell_type": "markdown",
      "source": [
        "Once we have our library configured, we will construct a dataframe from our file. We will create this dataframe by using Pandas and associating our file, which can be uploaded on the left panel."
      ],
      "metadata": {
        "id": "Efq10T-X2z0E"
      }
    },
    {
      "cell_type": "code",
      "source": [
        "df = pd.read_csv('/content/sample_data/WDB_DemonicPact4.csv')"
      ],
      "metadata": {
        "id": "i4PyHmzS3UGd"
      },
      "execution_count": null,
      "outputs": []
    },
    {
      "cell_type": "markdown",
      "source": [
        "Now we have used the Pandas library to create a dataframe from the file we have uploaded. However, we are creating a graph from only a portion of the data we have uploaded. We need to determine which column has the data set we are looking for and print that portion of the dataframe."
      ],
      "metadata": {
        "id": "74wkkHnu3XsL"
      }
    },
    {
      "cell_type": "code",
      "source": [
        "print(df[\"Demonic_Type\"])"
      ],
      "metadata": {
        "id": "hYB9HBxW4JBJ"
      },
      "execution_count": null,
      "outputs": []
    },
    {
      "cell_type": "markdown",
      "source": [
        "We can generate a table with the columns that we have associated in the prior steps."
      ],
      "metadata": {
        "id": "oabfpQ6B93W2"
      }
    },
    {
      "cell_type": "code",
      "source": [
        "df.columns.tolist()"
      ],
      "metadata": {
        "id": "bJlK4HRO-KIr"
      },
      "execution_count": null,
      "outputs": []
    },
    {
      "cell_type": "markdown",
      "source": [
        "# Finalizing Visualization"
      ],
      "metadata": {
        "id": "l7F5pDX29rlu"
      }
    },
    {
      "cell_type": "markdown",
      "source": [
        "After integration both libraries and employing dataframe configuration, tools, and graphic alterations, we will count the frequencies that show up in the visualization. This requires an association between our dataframe and dataset, and counting the included values."
      ],
      "metadata": {
        "id": "hnEEubkK-brB"
      }
    },
    {
      "cell_type": "code",
      "source": [
        "thedemonicdataframe = df[\"Demonic_Type\"].value_counts()"
      ],
      "metadata": {
        "id": "zSQuPUpK_VZm"
      },
      "execution_count": null,
      "outputs": []
    },
    {
      "cell_type": "markdown",
      "source": [
        "Finally, we can create the parameters for the visualization. We also will use \"rot\" to rotate the names on the graph; this allows for what is on the axes to not overlap. For a bar graph, we will need to identify: the X-axis, Y-axis, size, and title. This will produce our visualization!"
      ],
      "metadata": {
        "id": "IDFKQdV6_W5I"
      }
    },
    {
      "cell_type": "code",
      "source": [
        "thedemonicdataframe.plot.bar(x='Demonic Type', y='Count', rot=80, title= \"Demonic Pact Frequency Chart\")"
      ],
      "metadata": {
        "id": "-Em_z_NNATj-"
      },
      "execution_count": null,
      "outputs": []
    },
    {
      "cell_type": "markdown",
      "source": [
        "To produce different graphs with the same data, only a few small changes are required. For instance, we can produce a line graph."
      ],
      "metadata": {
        "id": "agr3PV7UA9OF"
      }
    },
    {
      "cell_type": "code",
      "source": [
        "thedemonicdataframe.plot.line(x='Demonic Type', y='Count', rot=80, title= \"Demonic Pact Frequency Chart\")"
      ],
      "metadata": {
        "id": "5WA6em0IBY1m"
      },
      "execution_count": null,
      "outputs": []
    },
    {
      "cell_type": "markdown",
      "source": [
        "Or, a pie chart."
      ],
      "metadata": {
        "id": "BbECNp2XBbDy"
      }
    },
    {
      "cell_type": "code",
      "source": [
        "thedemonicdataframe.plot.pie(x='Demonic Type', y='Count', rot=80, title= \"Demonic Pact Frequency Chart\")"
      ],
      "metadata": {
        "id": "lJhIiSCnCKB1"
      },
      "execution_count": null,
      "outputs": []
    },
    {
      "cell_type": "markdown",
      "source": [
        "Or, an area graph."
      ],
      "metadata": {
        "id": "Gb8wSiTPDeY0"
      }
    },
    {
      "cell_type": "code",
      "source": [
        "thedemonicdataframe.plot.area(x='Demonic Type', y='Count', rot=80, title= \"Demonic Pact Frequency Chart\")"
      ],
      "metadata": {
        "id": "EmZbZ4p-DkGR"
      },
      "execution_count": null,
      "outputs": []
    },
    {
      "cell_type": "markdown",
      "source": [
        "# Discussion questions:\n",
        "o\tWhat pact was most frequently alleged? What pact was the least?\n",
        "o\tWere the results what you expected?\n",
        "o\tIs interpretation of the data via a bar graph the most productive way to visualize our dataset?\n",
        "o\tIs the data what you expected? Did you foresee any pacts that weren’t there? Did any surprise you?\n",
        "o\tWhat stigmas are associated with witchcraft, and how does this dataset effectively combat those stigmas?"
      ],
      "metadata": {
        "id": "pHGmDExqiGF6"
      }
    }
  ]
}